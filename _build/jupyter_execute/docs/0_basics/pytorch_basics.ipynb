{
 "cells": [
  {
   "cell_type": "markdown",
   "id": "522ee752",
   "metadata": {},
   "source": [
    "# Pytorch Basics\n",
    "\n",
    "> referecence: [Pytorch Official Documentation](https://docs.pytorch.org/tutorials/beginner/basics/intro.html)"
   ]
  },
  {
   "cell_type": "markdown",
   "id": "2a364556",
   "metadata": {},
   "source": [
    "## Tensors\n",
    "Tensors and NumPy arrays share the same underlying memory, eliminating the data copy.\n",
    "\n",
    "### Initialize a tensor"
   ]
  },
  {
   "cell_type": "code",
   "execution_count": 1,
   "id": "105eec7e",
   "metadata": {},
   "outputs": [],
   "source": [
    "import torch\n",
    "import numpy as np\n"
   ]
  },
  {
   "cell_type": "code",
   "execution_count": 2,
   "id": "a5a52f8e",
   "metadata": {},
   "outputs": [
    {
     "name": "stdout",
     "output_type": "stream",
     "text": [
      "x_data:\n",
      " tensor([[1, 2],\n",
      "        [3, 4]])\n",
      "x_np:\n",
      " tensor([[1, 2],\n",
      "        [3, 4]])\n",
      "x_ones:\n",
      " tensor([[1, 1],\n",
      "        [1, 1]])\n",
      "x_rand:\n",
      " tensor([[0.9815, 0.2415],\n",
      "        [0.0402, 0.8662]])\n",
      "full_tensor:\n",
      " tensor([[-inf, -inf, -inf],\n",
      "        [-inf, -inf, -inf]])\n"
     ]
    }
   ],
   "source": [
    "\n",
    "data = [[1,2], [3,4]]\n",
    "# From data\n",
    "x_data = torch.tensor(data)\n",
    "print(\"x_data:\\n\", x_data)\n",
    "\n",
    "# From a NumPy array\n",
    "np_array = np.array(data)\n",
    "x_np = torch.from_numpy(np_array)\n",
    "print(\"x_np:\\n\", x_np)\n",
    "\n",
    "# From another tensor\n",
    "x_ones = torch.ones_like(x_data)\n",
    "print(\"x_ones:\\n\", x_ones)\n",
    "\n",
    "x_rand = torch.rand_like(x_data, dtype=torch.float)\n",
    "print(\"x_rand:\\n\", x_rand)\n",
    "\n",
    "# With random or constant values\n",
    "shape = (2,3,)\n",
    "rand_tensor = torch.rand(shape)\n",
    "ones_tensor = torch.ones(shape)\n",
    "zeros_tensor = torch.zeros(shape)\n",
    "full_tensor = torch.full(shape, float('-inf'))\n",
    "\n",
    "print(\"full_tensor:\\n\", full_tensor)\n"
   ]
  },
  {
   "cell_type": "markdown",
   "id": "00a38491",
   "metadata": {},
   "source": []
  }
 ],
 "metadata": {
  "kernelspec": {
   "display_name": "llm",
   "language": "python",
   "name": "python3"
  },
  "language_info": {
   "codemirror_mode": {
    "name": "ipython",
    "version": 3
   },
   "file_extension": ".py",
   "mimetype": "text/x-python",
   "name": "python",
   "nbconvert_exporter": "python",
   "pygments_lexer": "ipython3",
   "version": "3.9.24"
  }
 },
 "nbformat": 4,
 "nbformat_minor": 5
}